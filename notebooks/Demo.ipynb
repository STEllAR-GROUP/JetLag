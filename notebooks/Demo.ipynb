{
 "cells": [
  {
   "cell_type": "code",
   "execution_count": 1,
   "metadata": {},
   "outputs": [
    {
     "name": "stdout",
     "output_type": "stream",
     "text": [
      "reading TAPIS_USER from /home/jovyan/.TAPIS_USER...\n",
      "Token refresh successful\n",
      "The complete list of valid jetlag_id's that can be used for this test:\n",
      "  rostam-sbrandt\n",
      "  shelob-funwave\n",
      "\n"
     ]
    }
   ],
   "source": [
    "from remote_run import remote_run, to_string, viz\n",
    "from jetlag import Universal, RemoteJobWatcher\n",
    "from knownsystems import *\n",
    "import sys\n",
    "from random import randint\n",
    "\n",
    "uv = Universal()\n",
    "uv.load(\n",
    "    backend=backend_tapis,\n",
    "    notify='sbrandt@cct.lsu.edu',\n",
    "    jetlag_id='rostam-sbrandt',\n",
    ")\n",
    "\n",
    "print(\"The complete list of valid jetlag_id's that can be used for this test:\")\n",
    "for sys in uv.systems():\n",
    "    print(\" \",sys)\n",
    "print()"
   ]
  },
  {
   "cell_type": "code",
   "execution_count": 2,
   "metadata": {},
   "outputs": [
    {
     "name": "stdout",
     "output_type": "stream",
     "text": [
      "fib(20)=...\n",
      "Job ID: 2464a31d-e4a7-4ed7-a6ba-7389060f9dd0-007\n",
      "STAGING_INPUTS\n",
      "SUBMITTING\n",
      "RUNNING\n",
      "Cleanup: rostam-sbrandt-storage-tg457049/tjob/tg457049/py-fun-1137592609...done\n",
      "FINISHED\n",
      "tar: run_dir/OTF2_archive/APEX/0.def: time stamp 2020-03-23 19:18:47 is 283339.169043281 s in the future\n",
      "tar: run_dir/OTF2_archive/APEX/1.def: time stamp 2020-03-23 19:18:47 is 283339.168541589 s in the future\n",
      "tar: run_dir/OTF2_archive/APEX/2.def: time stamp 2020-03-23 19:18:47 is 283339.168288089 s in the future\n",
      "tar: run_dir/OTF2_archive/APEX/3.def: time stamp 2020-03-23 19:18:47 is 283339.167957239 s in the future\n",
      "tar: run_dir/OTF2_archive/APEX/4.def: time stamp 2020-03-23 19:18:47 is 283339.167619022 s in the future\n",
      "tar: run_dir/OTF2_archive/APEX/5.def: time stamp 2020-03-23 19:18:47 is 283339.165116847 s in the future\n",
      "tar: run_dir/OTF2_archive/APEX/6.def: time stamp 2020-03-23 19:18:47 is 283339.164539647 s in the future\n",
      "tar: run_dir/OTF2_archive/APEX/7.def: time stamp 2020-03-23 19:18:47 is 283339.163760839 s in the future\n",
      "tar: run_dir/OTF2_archive/APEX/8.def: time stamp 2020-03-23 19:18:47 is 283339.163515248 s in the future\n",
      "tar: run_dir/OTF2_archive/APEX/9.def: time stamp 2020-03-23 19:18:47 is 283339.163311689 s in the future\n",
      "tar: run_dir/OTF2_archive/APEX/10.def: time stamp 2020-03-23 19:18:47 is 283339.163128173 s in the future\n",
      "tar: run_dir/OTF2_archive/APEX/11.def: time stamp 2020-03-23 19:18:47 is 283339.162665914 s in the future\n",
      "tar: run_dir/OTF2_archive/APEX/12.def: time stamp 2020-03-23 19:18:47 is 283339.162506556 s in the future\n",
      "tar: run_dir/OTF2_archive/APEX/13.def: time stamp 2020-03-23 19:18:47 is 283339.162356948 s in the future\n",
      "tar: run_dir/OTF2_archive/APEX/14.def: time stamp 2020-03-23 19:18:47 is 283339.162036281 s in the future\n",
      "tar: run_dir/OTF2_archive/APEX/15.def: time stamp 2020-03-23 19:18:47 is 283339.161866523 s in the future\n",
      "tar: run_dir/OTF2_archive/APEX/16.def: time stamp 2020-03-23 19:18:47 is 283339.161728939 s in the future\n",
      "tar: run_dir/OTF2_archive/APEX/16.evt: time stamp 2020-03-23 19:18:47 is 283339.161620606 s in the future\n",
      "tar: run_dir/OTF2_archive/APEX/15.evt: time stamp 2020-03-23 19:18:47 is 283339.161516389 s in the future\n",
      "tar: run_dir/OTF2_archive/APEX/14.evt: time stamp 2020-03-23 19:18:47 is 283339.161104181 s in the future\n",
      "tar: run_dir/OTF2_archive/APEX/13.evt: time stamp 2020-03-23 19:18:47 is 283339.160948398 s in the future\n",
      "tar: run_dir/OTF2_archive/APEX/12.evt: time stamp 2020-03-23 19:18:47 is 283339.160749498 s in the future\n",
      "tar: run_dir/OTF2_archive/APEX/11.evt: time stamp 2020-03-23 19:18:47 is 283339.160580823 s in the future\n",
      "tar: run_dir/OTF2_archive/APEX/10.evt: time stamp 2020-03-23 19:18:47 is 283339.160421573 s in the future\n",
      "tar: run_dir/OTF2_archive/APEX/9.evt: time stamp 2020-03-23 19:18:47 is 283339.160324289 s in the future\n",
      "tar: run_dir/OTF2_archive/APEX/8.evt: time stamp 2020-03-23 19:18:47 is 283339.160237081 s in the future\n",
      "tar: run_dir/OTF2_archive/APEX/7.evt: time stamp 2020-03-23 19:18:47 is 283339.160148031 s in the future\n",
      "tar: run_dir/OTF2_archive/APEX/6.evt: time stamp 2020-03-23 19:18:47 is 283339.160053456 s in the future\n",
      "tar: run_dir/OTF2_archive/APEX/5.evt: time stamp 2020-03-23 19:18:47 is 283339.159968414 s in the future\n",
      "tar: run_dir/OTF2_archive/APEX/4.evt: time stamp 2020-03-23 19:18:47 is 283339.159880773 s in the future\n",
      "tar: run_dir/OTF2_archive/APEX/3.evt: time stamp 2020-03-23 19:18:47 is 283339.159690323 s in the future\n",
      "tar: run_dir/OTF2_archive/APEX/2.evt: time stamp 2020-03-23 19:18:48 is 283340.159596831 s in the future\n",
      "tar: run_dir/OTF2_archive/APEX/1.evt: time stamp 2020-03-23 19:18:48 is 283340.159537898 s in the future\n",
      "tar: run_dir/OTF2_archive/APEX/0.evt: time stamp 2020-03-23 19:18:48 is 283340.159447873 s in the future\n",
      "tar: run_dir/OTF2_archive/APEX: time stamp 2020-03-23 19:18:45 is 283337.159418081 s in the future\n",
      "tar: run_dir/OTF2_archive/.regions.0: time stamp 2020-03-23 19:18:47 is 283339.159373989 s in the future\n",
      "tar: run_dir/OTF2_archive/.metrics.0: time stamp 2020-03-23 19:18:47 is 283339.159322639 s in the future\n",
      "tar: run_dir/OTF2_archive/APEX.otf2: time stamp 2020-03-23 19:18:47 is 283339.159278981 s in the future\n",
      "tar: run_dir/OTF2_archive/APEX.def: time stamp 2020-03-23 19:18:48 is 283340.159232398 s in the future\n",
      "tar: run_dir/OTF2_archive: time stamp 2020-03-23 19:18:47 is 283339.159207698 s in the future\n",
      "tar: run_dir/__physlcache__/command.db: time stamp 2020-03-23 19:18:15 is 283307.159099906 s in the future\n",
      "tar: run_dir/__physlcache__: time stamp 2020-03-23 19:18:15 is 283307.159041189 s in the future\n",
      "tar: run_dir/call_fib.physl: time stamp 2020-03-23 19:18:17 is 283309.158993739 s in the future\n",
      "tar: run_dir/hosts.txt: time stamp 2020-03-23 19:18:17 is 283309.158908806 s in the future\n",
      "tar: run_dir/result.py: time stamp 2020-03-23 19:18:44 is 283336.158841748 s in the future\n",
      "tar: run_dir/py-graph.txt: time stamp 2020-03-23 19:18:44 is 283336.158757356 s in the future\n",
      "tar: run_dir/py-tree.txt: time stamp 2020-03-23 19:18:44 is 283336.158671448 s in the future\n",
      "tar: run_dir/py-csv.txt: time stamp 2020-03-23 19:18:44 is 283336.158563656 s in the future\n",
      "tar: run_dir/physl-src.txt: time stamp 2020-03-23 19:18:47 is 283339.158513064 s in the future\n",
      "tar: run_dir/return_code.txt: time stamp 2020-03-23 19:18:48 is 283340.158467456 s in the future\n",
      "tar: run_dir: time stamp 2020-03-23 19:18:48 is 283340.158414156 s in the future\n",
      "result: 6765\n",
      "Could not visualize result, Traveler missing/unavailable:\n",
      "exception: [Errno 2] No such file or directory: 'otf2-print': 'otf2-print'\n"
     ]
    }
   ],
   "source": [
    "def fib(n):\n",
    "    if n < 2:\n",
    "        return n\n",
    "    else:\n",
    "        return fib(n-1)+fib(n-2)\n",
    "\n",
    "fibno = randint(13,20)\n",
    "print('fib(',fibno,')=...',sep='',flush=True)\n",
    "\n",
    "job = remote_run(uv, fib, (fibno,), nodes=1, ppn=1)\n",
    "job.wait()\n",
    "print(\"result:\",job.get_result())\n",
    "\n",
    "try:\n",
    "    viz(job)\n",
    "except:\n",
    "    print(\"Exception during viz step:\",sys.exc_info()[0])"
   ]
  },
  {
   "cell_type": "code",
   "execution_count": 3,
   "metadata": {},
   "outputs": [
    {
     "name": "stdout",
     "output_type": "stream",
     "text": [
      "result: 6765\n"
     ]
    },
    {
     "data": {
      "text/html": [
       "<a target='the-viz' href='http://localhost:8000/static/interface.html?x=0.613582'>fib(20)@2464a31d-e4a7-4ed7-a6ba-7389060f9dd0-007</a>"
      ],
      "text/plain": [
       "<IPython.core.display.HTML object>"
      ]
     },
     "metadata": {},
     "output_type": "display_data"
    }
   ],
   "source": [
    "# You can look at data from an old job if you supply the full job id\n",
    "#job = RemoteJobWatcher(uv, \"2327d1e6-7efc-48d8-9807-dad8a9255b71-007\")\n",
    "import os\n",
    "print(\"result:\",job.get_result())\n",
    "os.environ[\"PATH\"]=\"/usr/local/otf2/bin:/home/jovyan/workenv/bin:/home/jovyan/bin:/usr/local/cli/bin:/traveler-integrated/notebook/agave-cli/bin:/usr/local/bin:/usr/bin:/bin:/usr/sbin:/sbin\"\n",
    "try:\n",
    "    viz(job)\n",
    "except:\n",
    "    print(\"Exception during viz step:\",sys.exc_info()[0])"
   ]
  },
  {
   "cell_type": "code",
   "execution_count": 4,
   "metadata": {},
   "outputs": [
    {
     "data": {
      "text/html": [
       "<iframe src=\"http://localhost:8000\" style='width: 100%; height: 300px;'></iframe>\n"
      ],
      "text/plain": [
       "<IPython.core.display.HTML object>"
      ]
     },
     "metadata": {},
     "output_type": "display_data"
    }
   ],
   "source": [
    "%%html\n",
    "<iframe src=\"http://localhost:8000\" style='width: 100%; height: 300px;'></iframe>"
   ]
  },
  {
   "cell_type": "code",
   "execution_count": 34,
   "metadata": {},
   "outputs": [
    {
     "data": {
      "text/html": [
       "<a target='the-viz' href='http://localhost:8000/static/interface.html?x=0.950732'>f4(2)@306</a>"
      ],
      "text/plain": [
       "<IPython.core.display.HTML object>"
      ]
     },
     "metadata": {},
     "output_type": "display_data"
    },
    {
     "data": {
      "text/plain": [
       "<Response [200]>"
      ]
     },
     "execution_count": 34,
     "metadata": {},
     "output_type": "execute_result"
    }
   ],
   "source": [
    "# This was an experiment in which @Phylanx was run locally.\n",
    "import os\n",
    "from visualizeInTraveler import visualizeRemoteInTraveler\n",
    "pid = str(os.getpid())\n",
    "def write_perf(f,label):\n",
    "    t = f.__perfdata__\n",
    "    s = f.get_python_src(f.backend.wrapped_function)\n",
    "    ps = f.get_physl_source()\n",
    "    dir=\"jobdata-\"+pid+\"/run_dir\"\n",
    "    os.makedirs(dir,exist_ok=True)\n",
    "    with open(dir+\"/py-csv.txt\",\"w\") as fd:\n",
    "        print(t[0],end='',file=fd)\n",
    "    with open(dir+\"/py-tree.txt\",\"w\") as fd:\n",
    "        print(t[1],end='',file=fd)\n",
    "    with open(dir+\"/py-graph.txt\",\"w\") as fd:\n",
    "        print(t[2],end='',file=fd)\n",
    "    with open(dir+\"/py-src.txt\",\"w\") as fd:\n",
    "        print(s,file=fd)\n",
    "    with open(dir+\"/physl-src.txt\",\"w\") as fd:\n",
    "        print(ps,file=fd)\n",
    "    with open(dir+\"/label.txt\",\"w\") as fd:\n",
    "        print(label,file=fd)\n",
    "write_perf(f4,\"f4(2)\")\n",
    "visualizeRemoteInTraveler(pid)"
   ]
  },
  {
   "cell_type": "code",
   "execution_count": null,
   "metadata": {},
   "outputs": [],
   "source": []
  }
 ],
 "metadata": {
  "kernelspec": {
   "display_name": "Python 3",
   "language": "python",
   "name": "python3"
  },
  "language_info": {
   "codemirror_mode": {
    "name": "ipython",
    "version": 3
   },
   "file_extension": ".py",
   "mimetype": "text/x-python",
   "name": "python",
   "nbconvert_exporter": "python",
   "pygments_lexer": "ipython3",
   "version": "3.6.8"
  }
 },
 "nbformat": 4,
 "nbformat_minor": 4
}
