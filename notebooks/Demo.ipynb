{
 "cells": [
  {
   "cell_type": "code",
   "execution_count": null,
   "metadata": {},
   "outputs": [],
   "source": [
    "from remote_run import remote_run, to_string, viz\n",
    "from jetlag import Universal, RemoteJobWatcher\n",
    "from knownsystems import *\n",
    "import sys\n",
    "from random import randint\n",
    "from gui_fun import gui_fun, settings"
   ]
  },
  {
   "cell_type": "code",
   "execution_count": null,
   "metadata": {},
   "outputs": [],
   "source": [
    "uv = Universal()\n",
    "settings(uv.loadf, {\"passw\":\"password\"})\n",
    "gui_fun(uv.loadf)"
   ]
  },
  {
   "cell_type": "code",
   "execution_count": null,
   "metadata": {},
   "outputs": [],
   "source": [
    "print(\"The complete list of valid jetlag_id's that can be used for this test:\")\n",
    "for sys in uv.jetlag_ids():\n",
    "    print(\" \",sys)\n",
    "print()"
   ]
  },
  {
   "cell_type": "code",
   "execution_count": null,
   "metadata": {
    "scrolled": true
   },
   "outputs": [],
   "source": [
    "def fib(n):\n",
    "    if n < 2:\n",
    "        return n\n",
    "    else:\n",
    "        return fib(n-1)+fib(n-2)\n",
    "\n",
    "fibno = randint(10,15)\n",
    "print('fib(',fibno,')=...',sep='',flush=True)\n",
    "\n",
    "job = remote_run(uv, fib, (fibno,), nodes=1, ppn=1)\n",
    "job.wait()\n",
    "print(\"result:\",job.get_result())\n",
    "\n",
    "viz(job)"
   ]
  },
  {
   "cell_type": "code",
   "execution_count": null,
   "metadata": {},
   "outputs": [],
   "source": [
    "import pprint\n",
    "pp = pprint.PrettyPrinter(indent=4)\n",
    "pp.pprint(job.history())"
   ]
  },
  {
   "cell_type": "code",
   "execution_count": null,
   "metadata": {},
   "outputs": [],
   "source": [
    "print(job.std_output())"
   ]
  },
  {
   "cell_type": "code",
   "execution_count": null,
   "metadata": {},
   "outputs": [],
   "source": [
    "print(job.err_output())"
   ]
  },
  {
   "cell_type": "code",
   "execution_count": null,
   "metadata": {},
   "outputs": [],
   "source": [
    "job.jobid"
   ]
  },
  {
   "cell_type": "code",
   "execution_count": null,
   "metadata": {},
   "outputs": [],
   "source": [
    "# You can look at data from an old job if you supply the full job id\n",
    "# job = RemoteJobWatcher(uv, \"699cf0f8-0cb6-4f6a-a215-16c14c7522d4-007\")\n",
    "# print(\"result:\",job.get_result())"
   ]
  },
  {
   "cell_type": "code",
   "execution_count": null,
   "metadata": {},
   "outputs": [],
   "source": [
    "%%html\n",
    "<iframe src=\"http://localhost:8000\" style='width: 100%; height: 300px;'></iframe>"
   ]
  },
  {
   "cell_type": "code",
   "execution_count": null,
   "metadata": {},
   "outputs": [],
   "source": [
    "!curl -LO https://raw.githubusercontent.com/STEllAR-GROUP/phylanx/master/examples/algorithms/datasets/breast_cancer.csv"
   ]
  },
  {
   "cell_type": "code",
   "execution_count": null,
   "metadata": {},
   "outputs": [],
   "source": [
    "import numpy as np\n",
    "\n",
    "def lra_demo(x, y, alpha, iterations, enable_output):\n",
    "    weights = np.zeros(np.shape(x)[1])\n",
    "    transx = np.transpose(x)\n",
    "    pred = np.zeros(np.shape(x)[0])\n",
    "    error = np.zeros(np.shape(x)[0])\n",
    "    gradient = np.zeros(np.shape(x)[1])\n",
    "    step = 0\n",
    "    while step < iterations:\n",
    "        if (enable_output):\n",
    "            print(\"step: \", step, \", \", weights)\n",
    "        pred = 1.0 / (1.0 + np.exp(-np.dot(x, weights)))\n",
    "        error = pred - y\n",
    "        gradient = np.dot(transx, error)\n",
    "        weights = weights - (alpha * gradient)\n",
    "        step += 1\n",
    "    return weights\n",
    "\n",
    "file_name = \"breast_cancer.csv\"\n",
    "\n",
    "data = np.genfromtxt(file_name, skip_header=1, delimiter=\",\")\n",
    "x = data[:, :-1]\n",
    "y = data[:, -1:]\n",
    "y = np.reshape(y, (y.shape[0], ))\n",
    "#res = lra(x, y, 1e-5, 750, 0)\n",
    "\n",
    "print(\"args:\",(x, y, 1e-5, 750, 0))\n",
    "\n",
    "job = remote_run(uv, lra_demo, (x, y, 1e-5, 750, 0), nodes=1, ppn=1)\n",
    "job.wait()"
   ]
  },
  {
   "cell_type": "code",
   "execution_count": null,
   "metadata": {},
   "outputs": [],
   "source": [
    "print(\"result:\",job.get_result())\n",
    "viz(job)"
   ]
  },
  {
   "cell_type": "code",
   "execution_count": null,
   "metadata": {},
   "outputs": [],
   "source": []
  }
 ],
 "metadata": {
  "kernelspec": {
   "display_name": "Python 3",
   "language": "python",
   "name": "python3"
  },
  "language_info": {
   "codemirror_mode": {
    "name": "ipython",
    "version": 3
   },
   "file_extension": ".py",
   "mimetype": "text/x-python",
   "name": "python",
   "nbconvert_exporter": "python",
   "pygments_lexer": "ipython3",
   "version": "3.7.7"
  }
 },
 "nbformat": 4,
 "nbformat_minor": 4
}
