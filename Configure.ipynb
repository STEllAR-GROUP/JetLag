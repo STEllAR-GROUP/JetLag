{
 "cells": [
  {
   "cell_type": "code",
   "execution_count": 6,
   "metadata": {},
   "outputs": [
    {
     "name": "stdout",
     "output_type": "stream",
     "text": [
      "········\n"
     ]
    }
   ],
   "source": [
    "import os\n",
    "from getpass import getpass\n",
    "os.environ[\"AGAVE_PASSWORD\"]=getpass(\"AGAVE_PASSWORD\")"
   ]
  },
  {
   "cell_type": "code",
   "execution_count": 7,
   "metadata": {},
   "outputs": [
    {
     "name": "stdout",
     "output_type": "stream",
     "text": [
      "········\n"
     ]
    }
   ],
   "source": [
    "os.environ[\"TAPIS_PASSWORD\"]=getpass(\"TAPIS_PASSWORD\")"
   ]
  },
  {
   "cell_type": "code",
   "execution_count": 8,
   "metadata": {},
   "outputs": [
    {
     "name": "stdout",
     "output_type": "stream",
     "text": [
      "PUBLIC KEY:ssh-rsa AAAAB3NzaC1yc2EAAAADAQABAAABAQDJsIdNg+WhWPfS61PA0NMSlzBEYH5CVwJJBFIvQSqP+pXGhcM2a00HoKglDcjTNlJoz+JFNuQP5/iuls2VXNns2Z80GbfCX/ZvQqklw6AERsnwEc7Wo+/HXXSDW/w0syPG3MhUKuE3cVdwJ0U7/bSnQmHHjdek2KDHbjhIbC8WGZoOfKf7APEtNYafUzMXZM6tqxN/kpVMTcmLoxrloGPrsN+REEf0TtroUWUTKedNAvmt2hV7wL2yjx+sdcDQkmV8QBcYxs7CJ5MwUh7mG2vbkeaVvGQvCYRwcZBvCoxbOc0Tu7CY2QDX20Mv8tGmRZVs+Yv32OMiel/yl59KzAfB jovyan@e809c7297927\n"
     ]
    }
   ],
   "source": [
    "pub_key = input(\"PUBLIC KEY:\")"
   ]
  },
  {
   "cell_type": "code",
   "execution_count": 9,
   "metadata": {},
   "outputs": [
    {
     "name": "stdout",
     "output_type": "stream",
     "text": [
      "PRIVATE_KEY:········\n"
     ]
    }
   ],
   "source": [
    "priv_key = getpass(\"PRIVATE_KEY:\")"
   ]
  },
  {
   "cell_type": "code",
   "execution_count": 54,
   "metadata": {},
   "outputs": [],
   "source": [
    "priv_key_fixed = re.sub(r'([-=]+)\\s+',r'\\1\\n',priv_key)"
   ]
  },
  {
   "cell_type": "code",
   "execution_count": 55,
   "metadata": {},
   "outputs": [],
   "source": [
    "with open(\"uapp-key.pub\",\"w\") as fd:\n",
    "    fd.write(pub_key)\n",
    "with open(\"uapp-key\",\"w\") as fd:\n",
    "    fd.write(priv_key_fixed)"
   ]
  },
  {
   "cell_type": "code",
   "execution_count": 26,
   "metadata": {},
   "outputs": [],
   "source": [
    "backend_agave = {\n",
    "  \"baseurl\" : \"https://sandbox.agaveplatform.org/tenants\",\n",
    "  \"tenant\" : \"sandbox\",\n",
    "  \"user\" : \"sbrandt\",\n",
    "  \"utype\" : \"agave\",\n",
    "  \"pass\" : \"AGAVE_PASSWORD\"\n",
    "}\n",
    "\n",
    "backend_tapis = {\n",
    "  \"tenant\" : \"tacc.prod\",\n",
    "  \"user\" : \"tg457049\",\n",
    "  \"utype\" : \"tapis\",\n",
    "  \"pass\" : \"TAPIS_PASSWORD\"\n",
    "}\n",
    "\n",
    "rostam = {\n",
    "  \"machine_user\" : 'sbrandt',\n",
    "  \"machine\" : 'rostam',\n",
    "  \"machine_pass\" : \"ROSTAM_PASSWORD\",\n",
    "  \"domain\" : \"cct.lsu.edu\",\n",
    "  \"port\" : 8000,\n",
    "  \"queue\" : \"rostam\",\n",
    "  \"max_jobs_per_user\" : 10,\n",
    "  \"max_jobs\" : 20,\n",
    "  \"max_nodes\" : 256,\n",
    "  \"max_run_time\" : \"1:00:00\",\n",
    "  \"max_procs_per_node\" : 16,\n",
    "  \"min_procs_per_node\" : 1,\n",
    "  \"scheduler\" : \"SLURM\",\n",
    "  \"scratch_dir\" : \"/home/{machine_user}\",\n",
    "  \"work_dir\" : \"/home/{machine_user}\"\n",
    "}"
   ]
  },
  {
   "cell_type": "code",
   "execution_count": 18,
   "metadata": {},
   "outputs": [],
   "source": [
    "import sweetnsassy as s"
   ]
  },
  {
   "cell_type": "code",
   "execution_count": 90,
   "metadata": {},
   "outputs": [
    {
     "data": {
      "text/plain": [
       "<module 'sweetnsassy' from '/traveler-integrated/notebook/sweetnsassy.py'>"
      ]
     },
     "execution_count": 90,
     "metadata": {},
     "output_type": "execute_result"
    }
   ],
   "source": [
    "import imp\n",
    "imp.reload(s)"
   ]
  },
  {
   "cell_type": "code",
   "execution_count": 92,
   "metadata": {},
   "outputs": [
    {
     "name": "stdout",
     "output_type": "stream",
     "text": [
      "key: machine_user sbrandt\n",
      "key: machine_user sbrandt\n",
      "start mk_extra\n",
      "key: machine rostam\n",
      "key: sys_user tg457049\n",
      "key: machine rostam\n",
      "key: sys_user tg457049\n",
      "key: machine rostam\n",
      "key: sys_user tg457049\n",
      "key: home_dir /home/{machine_user}\n",
      "key: machine_user sbrandt\n",
      "step 2\n",
      "key: app_name {machine}_queue_{sys_user}\n",
      "key: machine rostam\n",
      "key: sys_user tg457049\n",
      "key: app_version 1.0.0\n",
      "key: fork_app_name {machine}_fork_{sys_user}\n",
      "key: machine rostam\n",
      "key: sys_user tg457049\n",
      "key: app_version 1.0.0\n",
      "load pass....\n",
      "pre auth\n",
      "refresh...\n",
      "key: apiurl https://api.tacc.utexas.edu/\n",
      "refresh done\n",
      "Token refresh successful\n",
      "key: machine_user sbrandt\n",
      "key: machine_user sbrandt\n",
      "auth is now: SSHKEYS\n",
      "STORAGE MACHINE: rostam-storage-tg457049\n",
      "key: machine rostam\n",
      "key: machine_user sbrandt\n",
      "key: machine rostam\n",
      "key: domain cct.lsu.edu\n",
      "key: machine rostam\n",
      "key: domain cct.lsu.edu\n",
      "key: root_dir /\n",
      "key: home_dir /home/{machine_user}\n",
      "key: machine_user sbrandt\n",
      "storage update: True\n",
      "Updating rostam-storage-tg457049 ...\n",
      "key: authtoken 4e6ce372859bde030b02466415caa83\n",
      "key: apiurl https://api.tacc.utexas.edu/\n",
      "key: authtoken 4e6ce372859bde030b02466415caa83\n",
      "key: apiurl https://api.tacc.utexas.edu/\n",
      ".\n",
      ".bash_history\n",
      ".bash_profile\n",
      ".bashrc\n",
      ".cache\n",
      "EXECUTION MACHINE: rostam-exec-tg457049\n",
      "key: machine rostam\n",
      "key: machine_user sbrandt\n",
      "key: machine rostam\n",
      "key: domain cct.lsu.edu\n",
      "key: scheduler SLURM\n",
      "key: scratch_dir /home/sbrandt\n",
      "key: work_dir /home/sbrandt\n",
      "key: machine rostam\n",
      "key: domain cct.lsu.edu\n",
      "key: max_jobs 20\n",
      "key: max_jobs_per_user 10\n",
      "key: queue rostam\n",
      "key: max_jobs 20\n",
      "key: max_nodes 256\n",
      "key: max_procs_per_node 16\n",
      "key: min_procs_per_node 1\n",
      "key: max_run_time 1:00:00\n",
      "key: machine rostam\n",
      "key: domain cct.lsu.edu\n",
      "key: root_dir /\n",
      "key: home_dir /home/{machine_user}\n",
      "key: machine_user sbrandt\n",
      "key: authtoken 4e6ce372859bde030b02466415caa83\n",
      "key: apiurl https://api.tacc.utexas.edu/\n",
      "key: authtoken 4e6ce372859bde030b02466415caa83\n",
      "key: apiurl https://api.tacc.utexas.edu/\n",
      ".\n",
      ".bash_history\n",
      ".bash_profile\n",
      ".bashrc\n",
      ".cache\n",
      "key: machine rostam\n",
      "key: machine_user sbrandt\n",
      "key: machine rostam\n",
      "key: domain cct.lsu.edu\n",
      "key: scratch_dir /home/sbrandt\n",
      "key: work_dir /home/sbrandt\n",
      "key: machine rostam\n",
      "key: domain cct.lsu.edu\n",
      "key: max_jobs 20\n",
      "key: max_jobs_per_user 10\n",
      "key: queue rostam\n",
      "key: max_jobs 20\n",
      "key: max_nodes 256\n",
      "key: max_procs_per_node 16\n",
      "key: min_procs_per_node 1\n",
      "key: max_run_time 1:00:00\n",
      "key: machine rostam\n",
      "key: domain cct.lsu.edu\n",
      "key: root_dir /\n",
      "key: home_dir /home/{machine_user}\n",
      "key: machine_user sbrandt\n",
      "key: authtoken 4e6ce372859bde030b02466415caa83\n",
      "key: apiurl https://api.tacc.utexas.edu/\n",
      "key: authtoken 4e6ce372859bde030b02466415caa83\n",
      "key: apiurl https://api.tacc.utexas.edu/\n",
      ".\n",
      ".bash_history\n",
      ".bash_profile\n",
      ".bashrc\n",
      ".cache\n",
      "key: machine rostam\n",
      "key: sys_user tg457049\n",
      "key: machine rostam\n",
      "key: sys_user tg457049\n",
      "key: machine rostam\n",
      "key: sys_user tg457049\n",
      "key: machine rostam\n",
      "key: sys_user tg457049\n",
      "key: storage_id rostam-storage-tg457049\n",
      "key: deployment_path new-{utype}-deployment\n",
      "key: utype tapis\n",
      "key: machine rostam\n",
      "key: sys_user tg457049\n",
      "key: machine rostam\n",
      "key: sys_user tg457049\n",
      "key: execm_id rostam-exec-tg457049\n",
      "key: allocation hpc_cmr\n",
      "key: machine rostam\n",
      "key: sys_user tg457049\n",
      "key: machine rostam\n",
      "key: sys_user tg457049\n",
      "key: machine rostam\n",
      "key: sys_user tg457049\n",
      "key: machine rostam\n",
      "key: sys_user tg457049\n",
      "key: storage_id rostam-storage-tg457049\n",
      "key: deployment_path new-{utype}-deployment\n",
      "key: utype tapis\n",
      "key: machine rostam\n",
      "key: sys_user tg457049\n",
      "key: machine rostam\n",
      "key: sys_user tg457049\n",
      "key: allocation hpc_cmr\n",
      "key: deployment_path new-{utype}-deployment\n",
      "key: utype tapis\n",
      "key: home_dir /home/{machine_user}\n",
      "key: machine_user sbrandt\n",
      "key: authtoken 4e6ce372859bde030b02466415caa83\n",
      "key: apiurl https://api.tacc.utexas.edu/\n",
      "key: storage_id rostam-storage-tg457049\n",
      "key: home_dir /home/{machine_user}\n",
      "key: machine_user sbrandt\n",
      "key: authtoken 4e6ce372859bde030b02466415caa83\n",
      "key: apiurl https://api.tacc.utexas.edu/\n",
      "key: storage_id rostam-storage-tg457049\n",
      "key: home_dir /home/{machine_user}\n",
      "key: machine_user sbrandt\n",
      "key: deployment_path new-{utype}-deployment\n",
      "key: utype tapis\n",
      "key: authtoken 4e6ce372859bde030b02466415caa83\n",
      "key: apiurl https://api.tacc.utexas.edu/\n",
      "key: storage_id rostam-storage-tg457049\n",
      "key: deployment_path new-{utype}-deployment\n",
      "key: utype tapis\n",
      "key: machine rostam\n",
      "key: sys_user tg457049\n",
      "key: authtoken 4e6ce372859bde030b02466415caa83\n",
      "key: apiurl https://api.tacc.utexas.edu/\n",
      "key: storage_id rostam-storage-tg457049\n",
      "key: home_dir /home/{machine_user}\n",
      "key: machine_user sbrandt\n",
      "key: deployment_path new-{utype}-deployment\n",
      "key: utype tapis\n",
      "key: machine rostam\n",
      "key: sys_user tg457049\n",
      "key: authtoken 4e6ce372859bde030b02466415caa83\n",
      "key: apiurl https://api.tacc.utexas.edu/\n",
      "key: storage_id rostam-storage-tg457049\n",
      "key: home_dir /home/{machine_user}\n",
      "key: machine_user sbrandt\n",
      "make app: rostam_queue_tg457049\n",
      "key: authtoken 4e6ce372859bde030b02466415caa83\n",
      "key: apiurl https://api.tacc.utexas.edu/\n",
      "make fork app: rostam_fork_tg457049\n",
      "key: authtoken 4e6ce372859bde030b02466415caa83\n",
      "key: apiurl https://api.tacc.utexas.edu/\n"
     ]
    }
   ],
   "source": [
    "uv = s.Universal()\n",
    "uv.init(backend=backend_tapis,\n",
    "       email=\"sbrandt@cct.lsu.edu\",\n",
    "       **rostam)\n",
    "uv.configure_from_ssh_keys()"
   ]
  },
  {
   "cell_type": "code",
   "execution_count": null,
   "metadata": {},
   "outputs": [],
   "source": []
  }
 ],
 "metadata": {
  "kernelspec": {
   "display_name": "Python 3",
   "language": "python",
   "name": "python3"
  },
  "language_info": {
   "codemirror_mode": {
    "name": "ipython",
    "version": 3
   },
   "file_extension": ".py",
   "mimetype": "text/x-python",
   "name": "python",
   "nbconvert_exporter": "python",
   "pygments_lexer": "ipython3",
   "version": "3.6.8"
  }
 },
 "nbformat": 4,
 "nbformat_minor": 2
}
