{
 "cells": [
  {
   "cell_type": "code",
   "execution_count": 1,
   "metadata": {},
   "outputs": [],
   "source": [
    "from phylanx import Phylanx"
   ]
  },
  {
   "cell_type": "code",
   "execution_count": 2,
   "metadata": {},
   "outputs": [],
   "source": [
    "@Phylanx\n",
    "def fab(n):\n",
    "    if n < 3:\n",
    "        return n\n",
    "    else:\n",
    "        return fab(n-1)+fab(n-2)+fab(n-3)"
   ]
  },
  {
   "cell_type": "code",
   "execution_count": 3,
   "metadata": {},
   "outputs": [],
   "source": [
    "import sweetnsassy as s"
   ]
  },
  {
   "cell_type": "code",
   "execution_count": 4,
   "metadata": {},
   "outputs": [],
   "source": [
    "backend_agave = {\n",
    "  \"baseurl\" : \"https://sandbox.agaveplatform.org/tenants\",\n",
    "  \"tenant\" : \"sandbox\",\n",
    "  \"user\" : \"sbrandt\",\n",
    "  \"utype\" : \"agave\",\n",
    "  \"pass\" : \"AGAVE_PASSWORD\"\n",
    "}\n",
    "\n",
    "backend_tapis = {\n",
    "  \"tenant\" : \"tacc.prod\",\n",
    "  \"user\" : \"tg457049\",\n",
    "  \"utype\" : \"tapis\",\n",
    "  \"pass\" : \"TAPIS_PASSWORD\"\n",
    "}"
   ]
  },
  {
   "cell_type": "code",
   "execution_count": 5,
   "metadata": {},
   "outputs": [
    {
     "name": "stdout",
     "output_type": "stream",
     "text": [
      "refresh...\n",
      "refresh done\n",
      "Token refresh successful\n",
      "Job ID: 8415843487305896426-242ac114-0001-007\n"
     ]
    }
   ],
   "source": [
    "uv = s.Universal()\n",
    "uv.load(backend_agave,\"sbrandt@cct.lsu.edu\",\"rostam\")\n",
    "jobnum = uv.hello_world_job('fork')"
   ]
  },
  {
   "cell_type": "code",
   "execution_count": 6,
   "metadata": {},
   "outputs": [],
   "source": [
    "import remote_run as r"
   ]
  },
  {
   "cell_type": "code",
   "execution_count": 7,
   "metadata": {},
   "outputs": [],
   "source": [
    "job = r.RemoteJobWatcher(uv,jobnum)"
   ]
  },
  {
   "cell_type": "code",
   "execution_count": 8,
   "metadata": {},
   "outputs": [
    {
     "name": "stdout",
     "output_type": "stream",
     "text": [
      "PENDING\n",
      "STAGING_INPUTS\n",
      "STAGED\n",
      "SUBMITTING\n",
      "RUNNING\n",
      "FINISHED\n"
     ]
    }
   ],
   "source": [
    "job.wait()"
   ]
  },
  {
   "cell_type": "code",
   "execution_count": 9,
   "metadata": {},
   "outputs": [
    {
     "name": "stdout",
     "output_type": "stream",
     "text": [
      "Job ID: 5558937688135495190-242ac114-0001-007\n"
     ]
    }
   ],
   "source": [
    "job = r.remote_run(uv, fab, (5,))"
   ]
  },
  {
   "cell_type": "code",
   "execution_count": 10,
   "metadata": {},
   "outputs": [
    {
     "name": "stdout",
     "output_type": "stream",
     "text": [
      "STAGING_INPUTS\n",
      "STAGED\n",
      "SUBMITTING\n",
      "RUNNING\n",
      "FINISHED\n"
     ]
    }
   ],
   "source": [
    "job.wait()"
   ]
  },
  {
   "cell_type": "code",
   "execution_count": 12,
   "metadata": {},
   "outputs": [
    {
     "name": "stdout",
     "output_type": "stream",
     "text": [
      "run_dir/\n",
      "run_dir/py-src.txt\n",
      "run_dir/command.py\n",
      "run_dir/name.txt\n",
      "run_dir/label.txt\n",
      "run_dir/runapp.sh\n",
      "run_dir/physl-src.txt\n",
      "run_dir/result.py\n",
      "run_dir/py-csv.txt\n",
      "run_dir/py-tree.txt\n",
      "run_dir/py-graph.txt\n"
     ]
    },
    {
     "data": {
      "text/html": [
       "<a target='the-viz' href='http://localhost:8000/static/interface.html?x=0.760705'>fab(5)@5558937688135495190-242ac114-0001-007</a>"
      ],
      "text/plain": [
       "<IPython.core.display.HTML object>"
      ]
     },
     "metadata": {},
     "output_type": "display_data"
    }
   ],
   "source": [
    "job.get_result()"
   ]
  },
  {
   "cell_type": "code",
   "execution_count": 14,
   "metadata": {},
   "outputs": [],
   "source": [
    "@Phylanx\n",
    "def fib(n):\n",
    "    if n < 2:\n",
    "        return n\n",
    "    else:\n",
    "        return fib(n-1)+fib(n-2)"
   ]
  },
  {
   "cell_type": "code",
   "execution_count": 15,
   "metadata": {},
   "outputs": [
    {
     "name": "stdout",
     "output_type": "stream",
     "text": [
      "Job ID: 2948261539751587350-242ac114-0001-007\n",
      "STAGING_INPUTS\n",
      "STAGED\n",
      "SUBMITTING\n",
      "RUNNING\n",
      "FINISHED\n",
      "run_dir/\n",
      "run_dir/py-src.txt\n",
      "run_dir/command.py\n",
      "run_dir/name.txt\n",
      "run_dir/label.txt\n",
      "run_dir/runapp.sh\n",
      "run_dir/physl-src.txt\n",
      "run_dir/result.py\n",
      "run_dir/py-csv.txt\n",
      "run_dir/py-tree.txt\n",
      "run_dir/py-graph.txt\n"
     ]
    },
    {
     "data": {
      "text/html": [
       "<a target='the-viz' href='http://localhost:8000/static/interface.html?x=0.808925'>fib(8)@2948261539751587350-242ac114-0001-007</a>"
      ],
      "text/plain": [
       "<IPython.core.display.HTML object>"
      ]
     },
     "metadata": {},
     "output_type": "display_data"
    }
   ],
   "source": [
    "job = r.remote_run(uv, fib, (8,))\n",
    "job.wait()\n",
    "job.get_result()"
   ]
  },
  {
   "cell_type": "code",
   "execution_count": null,
   "metadata": {},
   "outputs": [],
   "source": []
  }
 ],
 "metadata": {
  "kernelspec": {
   "display_name": "Python 3",
   "language": "python",
   "name": "python3"
  },
  "language_info": {
   "codemirror_mode": {
    "name": "ipython",
    "version": 3
   },
   "file_extension": ".py",
   "mimetype": "text/x-python",
   "name": "python",
   "nbconvert_exporter": "python",
   "pygments_lexer": "ipython3",
   "version": "3.6.8"
  }
 },
 "nbformat": 4,
 "nbformat_minor": 2
}
