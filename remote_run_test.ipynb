{
 "cells": [
  {
   "cell_type": "code",
   "execution_count": 1,
   "metadata": {},
   "outputs": [],
   "source": [
    "from remote_run import remote_run, to_string, viz\n",
    "from sweetnsaasy import Universal, RemoteJobWatcher\n",
    "from knownsystems import *"
   ]
  },
  {
   "cell_type": "code",
   "execution_count": 2,
   "metadata": {},
   "outputs": [
    {
     "name": "stdout",
     "output_type": "stream",
     "text": [
      "refresh...\n",
      "refresh done\n",
      "Token refresh successful\n"
     ]
    }
   ],
   "source": [
    "uv = Universal()\n",
    "uv.load(\n",
    "    backend_agave,\n",
    "    \"sbrandt@cct.lsu.edu\",\n",
    "    'rostam'\n",
    ")"
   ]
  },
  {
   "cell_type": "code",
   "execution_count": 3,
   "metadata": {},
   "outputs": [],
   "source": [
    "def fib(n):\n",
    "    if n < 2:\n",
    "        return n\n",
    "    else:\n",
    "        return fib(n-1)+fib(n-2)"
   ]
  },
  {
   "cell_type": "code",
   "execution_count": 7,
   "metadata": {},
   "outputs": [
    {
     "name": "stdout",
     "output_type": "stream",
     "text": [
      "Job ID: 4388395410736746986-242ac114-0001-007\n",
      "STAGED\n",
      "SUBMITTING\n",
      "RUNNING\n",
      "FINISHED\n",
      "run_dir/\n",
      "run_dir/command.py\n",
      "run_dir/label.txt\n",
      "run_dir/name.txt\n",
      "run_dir/py-src.txt\n",
      "run_dir/runapp.sh\n",
      "run_dir/result.py\n",
      "run_dir/physl-src.txt\n",
      "run_dir/py-csv.txt\n",
      "run_dir/py-tree.txt\n",
      "run_dir/py-graph.txt\n",
      "result: 144\n"
     ]
    }
   ],
   "source": [
    "job = remote_run(uv, fib, (12,))\n",
    "job.wait()\n",
    "print(\"result:\",job.get_result())"
   ]
  },
  {
   "cell_type": "code",
   "execution_count": 8,
   "metadata": {},
   "outputs": [
    {
     "data": {
      "text/html": [
       "<a target='the-viz' href='http://localhost:8100/static/interface.html?x=0.864131'>fib(12)@4388395410736746986-242ac114-0001-007</a>"
      ],
      "text/plain": [
       "<IPython.core.display.HTML object>"
      ]
     },
     "metadata": {},
     "output_type": "display_data"
    }
   ],
   "source": [
    "viz(job)"
   ]
  },
  {
   "cell_type": "code",
   "execution_count": null,
   "metadata": {},
   "outputs": [],
   "source": []
  }
 ],
 "metadata": {
  "kernelspec": {
   "display_name": "Python 3",
   "language": "python",
   "name": "python3"
  },
  "language_info": {
   "codemirror_mode": {
    "name": "ipython",
    "version": 3
   },
   "file_extension": ".py",
   "mimetype": "text/x-python",
   "name": "python",
   "nbconvert_exporter": "python",
   "pygments_lexer": "ipython3",
   "version": "3.5.2"
  }
 },
 "nbformat": 4,
 "nbformat_minor": 2
}
